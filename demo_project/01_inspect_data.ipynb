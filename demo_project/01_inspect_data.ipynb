{
 "cells": [
  {
   "cell_type": "code",
   "execution_count": 2,
   "metadata": {},
   "outputs": [],
   "source": [
    "import pandas as pd\n",
    "\n",
    "df = pd.read_parquet(\"feature_repo/data/driver_stats.parquet\")"
   ]
  },
  {
   "cell_type": "code",
   "execution_count": 3,
   "metadata": {},
   "outputs": [
    {
     "data": {
      "text/html": [
       "<div>\n",
       "<style scoped>\n",
       "    .dataframe tbody tr th:only-of-type {\n",
       "        vertical-align: middle;\n",
       "    }\n",
       "\n",
       "    .dataframe tbody tr th {\n",
       "        vertical-align: top;\n",
       "    }\n",
       "\n",
       "    .dataframe thead th {\n",
       "        text-align: right;\n",
       "    }\n",
       "</style>\n",
       "<table border=\"1\" class=\"dataframe\">\n",
       "  <thead>\n",
       "    <tr style=\"text-align: right;\">\n",
       "      <th></th>\n",
       "      <th>event_timestamp</th>\n",
       "      <th>driver_id</th>\n",
       "      <th>conv_rate</th>\n",
       "      <th>acc_rate</th>\n",
       "      <th>avg_daily_trips</th>\n",
       "      <th>created</th>\n",
       "    </tr>\n",
       "  </thead>\n",
       "  <tbody>\n",
       "    <tr>\n",
       "      <th>0</th>\n",
       "      <td>2025-01-13 06:00:00+00:00</td>\n",
       "      <td>1005</td>\n",
       "      <td>0.410200</td>\n",
       "      <td>0.775632</td>\n",
       "      <td>475</td>\n",
       "      <td>2025-01-28 06:45:17.574</td>\n",
       "    </tr>\n",
       "    <tr>\n",
       "      <th>1</th>\n",
       "      <td>2025-01-13 07:00:00+00:00</td>\n",
       "      <td>1005</td>\n",
       "      <td>0.803702</td>\n",
       "      <td>0.112771</td>\n",
       "      <td>714</td>\n",
       "      <td>2025-01-28 06:45:17.574</td>\n",
       "    </tr>\n",
       "    <tr>\n",
       "      <th>2</th>\n",
       "      <td>2025-01-13 08:00:00+00:00</td>\n",
       "      <td>1005</td>\n",
       "      <td>0.044592</td>\n",
       "      <td>0.269343</td>\n",
       "      <td>545</td>\n",
       "      <td>2025-01-28 06:45:17.574</td>\n",
       "    </tr>\n",
       "    <tr>\n",
       "      <th>3</th>\n",
       "      <td>2025-01-13 09:00:00+00:00</td>\n",
       "      <td>1005</td>\n",
       "      <td>0.302738</td>\n",
       "      <td>0.312650</td>\n",
       "      <td>114</td>\n",
       "      <td>2025-01-28 06:45:17.574</td>\n",
       "    </tr>\n",
       "    <tr>\n",
       "      <th>4</th>\n",
       "      <td>2025-01-13 10:00:00+00:00</td>\n",
       "      <td>1005</td>\n",
       "      <td>0.904062</td>\n",
       "      <td>0.818026</td>\n",
       "      <td>502</td>\n",
       "      <td>2025-01-28 06:45:17.574</td>\n",
       "    </tr>\n",
       "  </tbody>\n",
       "</table>\n",
       "</div>"
      ],
      "text/plain": [
       "            event_timestamp  driver_id  conv_rate  acc_rate  avg_daily_trips  \\\n",
       "0 2025-01-13 06:00:00+00:00       1005   0.410200  0.775632              475   \n",
       "1 2025-01-13 07:00:00+00:00       1005   0.803702  0.112771              714   \n",
       "2 2025-01-13 08:00:00+00:00       1005   0.044592  0.269343              545   \n",
       "3 2025-01-13 09:00:00+00:00       1005   0.302738  0.312650              114   \n",
       "4 2025-01-13 10:00:00+00:00       1005   0.904062  0.818026              502   \n",
       "\n",
       "                  created  \n",
       "0 2025-01-28 06:45:17.574  \n",
       "1 2025-01-28 06:45:17.574  \n",
       "2 2025-01-28 06:45:17.574  \n",
       "3 2025-01-28 06:45:17.574  \n",
       "4 2025-01-28 06:45:17.574  "
      ]
     },
     "execution_count": 3,
     "metadata": {},
     "output_type": "execute_result"
    }
   ],
   "source": [
    "df.head()"
   ]
  },
  {
   "cell_type": "code",
   "execution_count": null,
   "metadata": {},
   "outputs": [],
   "source": []
  }
 ],
 "metadata": {
  "kernelspec": {
   "display_name": "Python 3",
   "language": "python",
   "name": "python3"
  },
  "language_info": {
   "codemirror_mode": {
    "name": "ipython",
    "version": 3
   },
   "file_extension": ".py",
   "mimetype": "text/x-python",
   "name": "python",
   "nbconvert_exporter": "python",
   "pygments_lexer": "ipython3",
   "version": "3.12.1"
  }
 },
 "nbformat": 4,
 "nbformat_minor": 2
}
