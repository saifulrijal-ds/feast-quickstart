{
 "cells": [
  {
   "cell_type": "markdown",
   "metadata": {},
   "source": [
    "# Generating training data"
   ]
  },
  {
   "cell_type": "code",
   "execution_count": 2,
   "metadata": {},
   "outputs": [
    {
     "name": "stdout",
     "output_type": "stream",
     "text": [
      "----- Feature schema -----\n",
      "\n",
      "<class 'pandas.core.frame.DataFrame'>\n",
      "RangeIndex: 3 entries, 0 to 2\n",
      "Data columns (total 10 columns):\n",
      " #   Column                              Non-Null Count  Dtype              \n",
      "---  ------                              --------------  -----              \n",
      " 0   driver_id                           3 non-null      int64              \n",
      " 1   event_timestamp                     3 non-null      datetime64[ns, UTC]\n",
      " 2   label_driver_reported_satisfaction  3 non-null      int64              \n",
      " 3   val_to_add                          3 non-null      int64              \n",
      " 4   val_to_add_2                        3 non-null      int64              \n",
      " 5   conv_rate                           3 non-null      float32            \n",
      " 6   acc_rate                            3 non-null      float32            \n",
      " 7   avg_daily_trips                     3 non-null      int32              \n",
      " 8   conv_rate_plus_val1                 3 non-null      float64            \n",
      " 9   conv_rate_plus_val2                 3 non-null      float64            \n",
      "dtypes: datetime64[ns, UTC](1), float32(2), float64(2), int32(1), int64(4)\n",
      "memory usage: 336.0 bytes\n"
     ]
    },
    {
     "data": {
      "text/plain": [
       "None"
      ]
     },
     "metadata": {},
     "output_type": "display_data"
    },
    {
     "name": "stdout",
     "output_type": "stream",
     "text": [
      "\n",
      "----- Example features -----\n",
      "\n"
     ]
    },
    {
     "data": {
      "text/html": [
       "<div>\n",
       "<style scoped>\n",
       "    .dataframe tbody tr th:only-of-type {\n",
       "        vertical-align: middle;\n",
       "    }\n",
       "\n",
       "    .dataframe tbody tr th {\n",
       "        vertical-align: top;\n",
       "    }\n",
       "\n",
       "    .dataframe thead th {\n",
       "        text-align: right;\n",
       "    }\n",
       "</style>\n",
       "<table border=\"1\" class=\"dataframe\">\n",
       "  <thead>\n",
       "    <tr style=\"text-align: right;\">\n",
       "      <th></th>\n",
       "      <th>driver_id</th>\n",
       "      <th>event_timestamp</th>\n",
       "      <th>label_driver_reported_satisfaction</th>\n",
       "      <th>val_to_add</th>\n",
       "      <th>val_to_add_2</th>\n",
       "      <th>conv_rate</th>\n",
       "      <th>acc_rate</th>\n",
       "      <th>avg_daily_trips</th>\n",
       "      <th>conv_rate_plus_val1</th>\n",
       "      <th>conv_rate_plus_val2</th>\n",
       "    </tr>\n",
       "  </thead>\n",
       "  <tbody>\n",
       "    <tr>\n",
       "      <th>0</th>\n",
       "      <td>1001</td>\n",
       "      <td>2021-04-12 10:59:42+00:00</td>\n",
       "      <td>1</td>\n",
       "      <td>1</td>\n",
       "      <td>10</td>\n",
       "      <td>0.705295</td>\n",
       "      <td>0.837931</td>\n",
       "      <td>677</td>\n",
       "      <td>1.705295</td>\n",
       "      <td>10.705295</td>\n",
       "    </tr>\n",
       "    <tr>\n",
       "      <th>1</th>\n",
       "      <td>1002</td>\n",
       "      <td>2021-04-12 08:12:10+00:00</td>\n",
       "      <td>5</td>\n",
       "      <td>2</td>\n",
       "      <td>20</td>\n",
       "      <td>0.296570</td>\n",
       "      <td>0.479225</td>\n",
       "      <td>214</td>\n",
       "      <td>2.296570</td>\n",
       "      <td>20.296570</td>\n",
       "    </tr>\n",
       "    <tr>\n",
       "      <th>2</th>\n",
       "      <td>1003</td>\n",
       "      <td>2021-04-12 16:40:26+00:00</td>\n",
       "      <td>3</td>\n",
       "      <td>3</td>\n",
       "      <td>30</td>\n",
       "      <td>0.667155</td>\n",
       "      <td>0.092041</td>\n",
       "      <td>285</td>\n",
       "      <td>3.667155</td>\n",
       "      <td>30.667155</td>\n",
       "    </tr>\n",
       "  </tbody>\n",
       "</table>\n",
       "</div>"
      ],
      "text/plain": [
       "   driver_id           event_timestamp  label_driver_reported_satisfaction  \\\n",
       "0       1001 2021-04-12 10:59:42+00:00                                   1   \n",
       "1       1002 2021-04-12 08:12:10+00:00                                   5   \n",
       "2       1003 2021-04-12 16:40:26+00:00                                   3   \n",
       "\n",
       "   val_to_add  val_to_add_2  conv_rate  acc_rate  avg_daily_trips  \\\n",
       "0           1            10   0.705295  0.837931              677   \n",
       "1           2            20   0.296570  0.479225              214   \n",
       "2           3            30   0.667155  0.092041              285   \n",
       "\n",
       "   conv_rate_plus_val1  conv_rate_plus_val2  \n",
       "0             1.705295            10.705295  \n",
       "1             2.296570            20.296570  \n",
       "2             3.667155            30.667155  "
      ]
     },
     "metadata": {},
     "output_type": "display_data"
    }
   ],
   "source": [
    "from datetime import datetime\n",
    "import pandas as pd\n",
    "\n",
    "from feast import FeatureStore\n",
    "\n",
    "# Note: see https://docs.feast.dev/getting-started/concepts/feature-retrieval for \n",
    "# more details on how to retrieve for all entities in the offline store instead\n",
    "entity_df = pd.DataFrame.from_dict(\n",
    "    {\n",
    "        # entity's join key -> entity values\n",
    "        \"driver_id\": [1001, 1002, 1003],\n",
    "        # \"event_timestamp\" (reserved key) -> timestamps\n",
    "        \"event_timestamp\": [\n",
    "            datetime(2021, 4, 12, 10, 59, 42),\n",
    "            datetime(2021, 4, 12, 8, 12, 10),\n",
    "            datetime(2021, 4, 12, 16, 40, 26),\n",
    "        ],\n",
    "        # (optional) label name -> label values. Feast does not process these\n",
    "        \"label_driver_reported_satisfaction\": [1, 5, 3],\n",
    "        # values we're using for an on-demand transformation\n",
    "        \"val_to_add\": [1, 2, 3],\n",
    "        \"val_to_add_2\": [10, 20, 30],\n",
    "    }\n",
    ")\n",
    "\n",
    "store = FeatureStore(repo_path=\"./feature_repo\")\n",
    "\n",
    "training_df = store.get_historical_features(\n",
    "    entity_df=entity_df,\n",
    "    features=[\n",
    "        \"driver_hourly_stats:conv_rate\",\n",
    "        \"driver_hourly_stats:acc_rate\",\n",
    "        \"driver_hourly_stats:avg_daily_trips\",\n",
    "        \"transformed_conv_rate:conv_rate_plus_val1\",\n",
    "        \"transformed_conv_rate:conv_rate_plus_val2\",\n",
    "    ],\n",
    ").to_df()\n",
    "\n",
    "print(\"----- Feature schema -----\\n\")\n",
    "display(training_df.info())\n",
    "\n",
    "print()\n",
    "print(\"----- Example features -----\\n\")\n",
    "display(training_df.head())"
   ]
  },
  {
   "cell_type": "markdown",
   "metadata": {},
   "source": [
    "# Run offline inference (batch scoring) "
   ]
  },
  {
   "cell_type": "code",
   "execution_count": 3,
   "metadata": {},
   "outputs": [
    {
     "name": "stdout",
     "output_type": "stream",
     "text": [
      "\n",
      "----- Example features -----\n",
      "\n"
     ]
    },
    {
     "data": {
      "text/html": [
       "<div>\n",
       "<style scoped>\n",
       "    .dataframe tbody tr th:only-of-type {\n",
       "        vertical-align: middle;\n",
       "    }\n",
       "\n",
       "    .dataframe tbody tr th {\n",
       "        vertical-align: top;\n",
       "    }\n",
       "\n",
       "    .dataframe thead th {\n",
       "        text-align: right;\n",
       "    }\n",
       "</style>\n",
       "<table border=\"1\" class=\"dataframe\">\n",
       "  <thead>\n",
       "    <tr style=\"text-align: right;\">\n",
       "      <th></th>\n",
       "      <th>driver_id</th>\n",
       "      <th>event_timestamp</th>\n",
       "      <th>label_driver_reported_satisfaction</th>\n",
       "      <th>val_to_add</th>\n",
       "      <th>val_to_add_2</th>\n",
       "      <th>conv_rate</th>\n",
       "      <th>acc_rate</th>\n",
       "      <th>avg_daily_trips</th>\n",
       "      <th>conv_rate_plus_val1</th>\n",
       "      <th>conv_rate_plus_val2</th>\n",
       "    </tr>\n",
       "  </thead>\n",
       "  <tbody>\n",
       "    <tr>\n",
       "      <th>0</th>\n",
       "      <td>1002</td>\n",
       "      <td>2025-01-28 07:27:58.975869+00:00</td>\n",
       "      <td>5</td>\n",
       "      <td>2</td>\n",
       "      <td>20</td>\n",
       "      <td>0.568183</td>\n",
       "      <td>0.923124</td>\n",
       "      <td>88</td>\n",
       "      <td>2.568183</td>\n",
       "      <td>20.568183</td>\n",
       "    </tr>\n",
       "    <tr>\n",
       "      <th>1</th>\n",
       "      <td>1001</td>\n",
       "      <td>2025-01-28 07:27:58.975869+00:00</td>\n",
       "      <td>1</td>\n",
       "      <td>1</td>\n",
       "      <td>10</td>\n",
       "      <td>0.414763</td>\n",
       "      <td>0.939540</td>\n",
       "      <td>487</td>\n",
       "      <td>1.414763</td>\n",
       "      <td>10.414763</td>\n",
       "    </tr>\n",
       "    <tr>\n",
       "      <th>2</th>\n",
       "      <td>1003</td>\n",
       "      <td>2025-01-28 07:27:58.975869+00:00</td>\n",
       "      <td>3</td>\n",
       "      <td>3</td>\n",
       "      <td>30</td>\n",
       "      <td>0.502440</td>\n",
       "      <td>0.077876</td>\n",
       "      <td>466</td>\n",
       "      <td>3.502440</td>\n",
       "      <td>30.502440</td>\n",
       "    </tr>\n",
       "  </tbody>\n",
       "</table>\n",
       "</div>"
      ],
      "text/plain": [
       "   driver_id                  event_timestamp  \\\n",
       "0       1002 2025-01-28 07:27:58.975869+00:00   \n",
       "1       1001 2025-01-28 07:27:58.975869+00:00   \n",
       "2       1003 2025-01-28 07:27:58.975869+00:00   \n",
       "\n",
       "   label_driver_reported_satisfaction  val_to_add  val_to_add_2  conv_rate  \\\n",
       "0                                   5           2            20   0.568183   \n",
       "1                                   1           1            10   0.414763   \n",
       "2                                   3           3            30   0.502440   \n",
       "\n",
       "   acc_rate  avg_daily_trips  conv_rate_plus_val1  conv_rate_plus_val2  \n",
       "0  0.923124               88             2.568183            20.568183  \n",
       "1  0.939540              487             1.414763            10.414763  \n",
       "2  0.077876              466             3.502440            30.502440  "
      ]
     },
     "metadata": {},
     "output_type": "display_data"
    }
   ],
   "source": [
    "entity_df[\"event_timestamp\"] = pd.to_datetime(\"now\", utc=True)\n",
    "training_df = store.get_historical_features(\n",
    "    entity_df=entity_df,\n",
    "    features=[\n",
    "        \"driver_hourly_stats:conv_rate\",\n",
    "        \"driver_hourly_stats:acc_rate\",\n",
    "        \"driver_hourly_stats:avg_daily_trips\",\n",
    "        \"transformed_conv_rate:conv_rate_plus_val1\",\n",
    "        \"transformed_conv_rate:conv_rate_plus_val2\",\n",
    "    ],\n",
    ").to_df()\n",
    "\n",
    "print(\"\\n----- Example features -----\\n\")\n",
    "display(training_df.head())"
   ]
  },
  {
   "cell_type": "markdown",
   "metadata": {},
   "source": [
    "# Fetching feature vectors for inference"
   ]
  },
  {
   "cell_type": "code",
   "execution_count": 4,
   "metadata": {},
   "outputs": [
    {
     "name": "stderr",
     "output_type": "stream",
     "text": [
      "/usr/local/python/3.12.1/lib/python3.12/site-packages/feast/entity.py:173: DeprecationWarning: Entity value_type will be mandatory in the next release. Please specify a value_type for entity 'driver'.\n",
      "  entity = cls(\n",
      "/usr/local/python/3.12.1/lib/python3.12/site-packages/feast/entity.py:173: DeprecationWarning: Entity value_type will be mandatory in the next release. Please specify a value_type for entity '__dummy'.\n",
      "  entity = cls(\n",
      "WARNING:root:Cannot use sqlite_vec for vector search\n"
     ]
    },
    {
     "name": "stdout",
     "output_type": "stream",
     "text": [
      "{'acc_rate': [0.8754096031188965, 0.29127615690231323],\n",
      " 'avg_daily_trips': [59, 779],\n",
      " 'conv_rate': [0.037084974348545074, 0.05781197175383568],\n",
      " 'driver_id': [1004, 1005]}\n"
     ]
    }
   ],
   "source": [
    "from pprint import pprint\n",
    "\n",
    "store = FeatureStore(repo_path=\"./feature_repo\")\n",
    "\n",
    "feature_vector = store.get_online_features(\n",
    "    features=[\n",
    "        \"driver_hourly_stats:conv_rate\",\n",
    "        \"driver_hourly_stats:acc_rate\",\n",
    "        \"driver_hourly_stats:avg_daily_trips\",\n",
    "    ],\n",
    "    entity_rows=[\n",
    "        # {join_key: entity_value}\n",
    "        {\"driver_id\": 1004},\n",
    "        {\"driver_id\": 1005},\n",
    "    ],\n",
    ").to_dict()\n",
    "\n",
    "pprint(feature_vector)"
   ]
  },
  {
   "cell_type": "markdown",
   "metadata": {},
   "source": [
    "# Using a feature service to fetch online features instead."
   ]
  },
  {
   "cell_type": "markdown",
   "metadata": {},
   "source": [
    "Has been created when feast apply"
   ]
  },
  {
   "cell_type": "code",
   "execution_count": 8,
   "metadata": {},
   "outputs": [
    {
     "ename": "RequestDataNotFoundInEntityRowsException",
     "evalue": "Required request data source features ['val_to_add_2', 'val_to_add'] not found in the entity rows, but required by feature views",
     "output_type": "error",
     "traceback": [
      "\u001b[0;31m---------------------------------------------------------------------------\u001b[0m",
      "\u001b[0;31mRequestDataNotFoundInEntityRowsException\u001b[0m  Traceback (most recent call last)",
      "Cell \u001b[0;32mIn[8], line 6\u001b[0m\n\u001b[1;32m      3\u001b[0m feature_store \u001b[38;5;241m=\u001b[39m FeatureStore(\u001b[38;5;124m'\u001b[39m\u001b[38;5;124m./feature_repo\u001b[39m\u001b[38;5;124m'\u001b[39m)  \u001b[38;5;66;03m# Initialize the feature store\u001b[39;00m\n\u001b[1;32m      5\u001b[0m feature_service \u001b[38;5;241m=\u001b[39m feature_store\u001b[38;5;241m.\u001b[39mget_feature_service(\u001b[38;5;124m\"\u001b[39m\u001b[38;5;124mdriver_activity_v1\u001b[39m\u001b[38;5;124m\"\u001b[39m)\n\u001b[0;32m----> 6\u001b[0m feature_vector \u001b[38;5;241m=\u001b[39m \u001b[43mfeature_store\u001b[49m\u001b[38;5;241;43m.\u001b[39;49m\u001b[43mget_online_features\u001b[49m\u001b[43m(\u001b[49m\n\u001b[1;32m      7\u001b[0m \u001b[43m    \u001b[49m\u001b[43mfeatures\u001b[49m\u001b[38;5;241;43m=\u001b[39;49m\u001b[43mfeature_service\u001b[49m\u001b[43m,\u001b[49m\n\u001b[1;32m      8\u001b[0m \u001b[43m    \u001b[49m\u001b[43mentity_rows\u001b[49m\u001b[38;5;241;43m=\u001b[39;49m\u001b[43m[\u001b[49m\n\u001b[1;32m      9\u001b[0m \u001b[43m        \u001b[49m\u001b[38;5;66;43;03m# {join_key: entity_value}\u001b[39;49;00m\n\u001b[1;32m     10\u001b[0m \u001b[43m        \u001b[49m\u001b[43m{\u001b[49m\u001b[38;5;124;43m\"\u001b[39;49m\u001b[38;5;124;43mdriver_id\u001b[39;49m\u001b[38;5;124;43m\"\u001b[39;49m\u001b[43m:\u001b[49m\u001b[43m \u001b[49m\u001b[38;5;241;43m1004\u001b[39;49m\u001b[43m}\u001b[49m\u001b[43m,\u001b[49m\n\u001b[1;32m     11\u001b[0m \u001b[43m        \u001b[49m\u001b[43m{\u001b[49m\u001b[38;5;124;43m\"\u001b[39;49m\u001b[38;5;124;43mdriver_id\u001b[39;49m\u001b[38;5;124;43m\"\u001b[39;49m\u001b[43m:\u001b[49m\u001b[43m \u001b[49m\u001b[38;5;241;43m1005\u001b[39;49m\u001b[43m}\u001b[49m\u001b[43m,\u001b[49m\n\u001b[1;32m     12\u001b[0m \u001b[43m    \u001b[49m\u001b[43m]\u001b[49m\u001b[43m,\u001b[49m\n\u001b[1;32m     13\u001b[0m \u001b[43m)\u001b[49m\u001b[38;5;241m.\u001b[39mto_dict()\n\u001b[1;32m     14\u001b[0m pprint(feature_vector)\n",
      "File \u001b[0;32m/usr/local/python/3.12.1/lib/python3.12/site-packages/feast/feature_store.py:1699\u001b[0m, in \u001b[0;36mFeatureStore.get_online_features\u001b[0;34m(self, features, entity_rows, full_feature_names)\u001b[0m\n\u001b[1;32m   1656\u001b[0m \u001b[38;5;250m\u001b[39m\u001b[38;5;124;03m\"\"\"\u001b[39;00m\n\u001b[1;32m   1657\u001b[0m \u001b[38;5;124;03mRetrieves the latest online feature data.\u001b[39;00m\n\u001b[1;32m   1658\u001b[0m \n\u001b[0;32m   (...)\u001b[0m\n\u001b[1;32m   1695\u001b[0m \u001b[38;5;124;03m    >>> online_response_dict = online_response.to_dict()\u001b[39;00m\n\u001b[1;32m   1696\u001b[0m \u001b[38;5;124;03m\"\"\"\u001b[39;00m\n\u001b[1;32m   1697\u001b[0m provider \u001b[38;5;241m=\u001b[39m \u001b[38;5;28mself\u001b[39m\u001b[38;5;241m.\u001b[39m_get_provider()\n\u001b[0;32m-> 1699\u001b[0m \u001b[38;5;28;01mreturn\u001b[39;00m \u001b[43mprovider\u001b[49m\u001b[38;5;241;43m.\u001b[39;49m\u001b[43mget_online_features\u001b[49m\u001b[43m(\u001b[49m\n\u001b[1;32m   1700\u001b[0m \u001b[43m    \u001b[49m\u001b[43mconfig\u001b[49m\u001b[38;5;241;43m=\u001b[39;49m\u001b[38;5;28;43mself\u001b[39;49m\u001b[38;5;241;43m.\u001b[39;49m\u001b[43mconfig\u001b[49m\u001b[43m,\u001b[49m\n\u001b[1;32m   1701\u001b[0m \u001b[43m    \u001b[49m\u001b[43mfeatures\u001b[49m\u001b[38;5;241;43m=\u001b[39;49m\u001b[43mfeatures\u001b[49m\u001b[43m,\u001b[49m\n\u001b[1;32m   1702\u001b[0m \u001b[43m    \u001b[49m\u001b[43mentity_rows\u001b[49m\u001b[38;5;241;43m=\u001b[39;49m\u001b[43mentity_rows\u001b[49m\u001b[43m,\u001b[49m\n\u001b[1;32m   1703\u001b[0m \u001b[43m    \u001b[49m\u001b[43mregistry\u001b[49m\u001b[38;5;241;43m=\u001b[39;49m\u001b[38;5;28;43mself\u001b[39;49m\u001b[38;5;241;43m.\u001b[39;49m\u001b[43m_registry\u001b[49m\u001b[43m,\u001b[49m\n\u001b[1;32m   1704\u001b[0m \u001b[43m    \u001b[49m\u001b[43mproject\u001b[49m\u001b[38;5;241;43m=\u001b[39;49m\u001b[38;5;28;43mself\u001b[39;49m\u001b[38;5;241;43m.\u001b[39;49m\u001b[43mproject\u001b[49m\u001b[43m,\u001b[49m\n\u001b[1;32m   1705\u001b[0m \u001b[43m    \u001b[49m\u001b[43mfull_feature_names\u001b[49m\u001b[38;5;241;43m=\u001b[39;49m\u001b[43mfull_feature_names\u001b[49m\u001b[43m,\u001b[49m\n\u001b[1;32m   1706\u001b[0m \u001b[43m\u001b[49m\u001b[43m)\u001b[49m\n",
      "File \u001b[0;32m/usr/local/python/3.12.1/lib/python3.12/site-packages/feast/infra/passthrough_provider.py:249\u001b[0m, in \u001b[0;36mPassthroughProvider.get_online_features\u001b[0;34m(self, config, features, entity_rows, registry, project, full_feature_names)\u001b[0m\n\u001b[1;32m    237\u001b[0m \u001b[38;5;28;01mdef\u001b[39;00m \u001b[38;5;21mget_online_features\u001b[39m(\n\u001b[1;32m    238\u001b[0m     \u001b[38;5;28mself\u001b[39m,\n\u001b[1;32m    239\u001b[0m     config: RepoConfig,\n\u001b[0;32m   (...)\u001b[0m\n\u001b[1;32m    247\u001b[0m     full_feature_names: \u001b[38;5;28mbool\u001b[39m \u001b[38;5;241m=\u001b[39m \u001b[38;5;28;01mFalse\u001b[39;00m,\n\u001b[1;32m    248\u001b[0m ) \u001b[38;5;241m-\u001b[39m\u001b[38;5;241m>\u001b[39m OnlineResponse:\n\u001b[0;32m--> 249\u001b[0m     \u001b[38;5;28;01mreturn\u001b[39;00m \u001b[38;5;28;43mself\u001b[39;49m\u001b[38;5;241;43m.\u001b[39;49m\u001b[43monline_store\u001b[49m\u001b[38;5;241;43m.\u001b[39;49m\u001b[43mget_online_features\u001b[49m\u001b[43m(\u001b[49m\n\u001b[1;32m    250\u001b[0m \u001b[43m        \u001b[49m\u001b[43mconfig\u001b[49m\u001b[38;5;241;43m=\u001b[39;49m\u001b[43mconfig\u001b[49m\u001b[43m,\u001b[49m\n\u001b[1;32m    251\u001b[0m \u001b[43m        \u001b[49m\u001b[43mfeatures\u001b[49m\u001b[38;5;241;43m=\u001b[39;49m\u001b[43mfeatures\u001b[49m\u001b[43m,\u001b[49m\n\u001b[1;32m    252\u001b[0m \u001b[43m        \u001b[49m\u001b[43mentity_rows\u001b[49m\u001b[38;5;241;43m=\u001b[39;49m\u001b[43mentity_rows\u001b[49m\u001b[43m,\u001b[49m\n\u001b[1;32m    253\u001b[0m \u001b[43m        \u001b[49m\u001b[43mregistry\u001b[49m\u001b[38;5;241;43m=\u001b[39;49m\u001b[43mregistry\u001b[49m\u001b[43m,\u001b[49m\n\u001b[1;32m    254\u001b[0m \u001b[43m        \u001b[49m\u001b[43mproject\u001b[49m\u001b[38;5;241;43m=\u001b[39;49m\u001b[43mproject\u001b[49m\u001b[43m,\u001b[49m\n\u001b[1;32m    255\u001b[0m \u001b[43m        \u001b[49m\u001b[43mfull_feature_names\u001b[49m\u001b[38;5;241;43m=\u001b[39;49m\u001b[43mfull_feature_names\u001b[49m\u001b[43m,\u001b[49m\n\u001b[1;32m    256\u001b[0m \u001b[43m    \u001b[49m\u001b[43m)\u001b[49m\n",
      "File \u001b[0;32m/usr/local/python/3.12.1/lib/python3.12/site-packages/feast/infra/online_stores/online_store.py:179\u001b[0m, in \u001b[0;36mOnlineStore.get_online_features\u001b[0;34m(self, config, features, entity_rows, registry, project, full_feature_names)\u001b[0m\n\u001b[1;32m    165\u001b[0m                 \u001b[38;5;28;01mraise\u001b[39;00m \u001b[38;5;167;01mValueError\u001b[39;00m(\n\u001b[1;32m    166\u001b[0m                     \u001b[38;5;124m\"\u001b[39m\u001b[38;5;124mAll entity_rows must have the same keys.\u001b[39m\u001b[38;5;124m\"\u001b[39m\n\u001b[1;32m    167\u001b[0m                 ) \u001b[38;5;28;01mfrom\u001b[39;00m \u001b[38;5;21;01me\u001b[39;00m\n\u001b[1;32m    169\u001b[0m     entity_rows \u001b[38;5;241m=\u001b[39m columnar\n\u001b[1;32m    171\u001b[0m (\n\u001b[1;32m    172\u001b[0m     join_key_values,\n\u001b[1;32m    173\u001b[0m     grouped_refs,\n\u001b[1;32m    174\u001b[0m     entity_name_to_join_key_map,\n\u001b[1;32m    175\u001b[0m     requested_on_demand_feature_views,\n\u001b[1;32m    176\u001b[0m     feature_refs,\n\u001b[1;32m    177\u001b[0m     requested_result_row_names,\n\u001b[1;32m    178\u001b[0m     online_features_response,\n\u001b[0;32m--> 179\u001b[0m ) \u001b[38;5;241m=\u001b[39m \u001b[43mutils\u001b[49m\u001b[38;5;241;43m.\u001b[39;49m\u001b[43m_prepare_entities_to_read_from_online_store\u001b[49m\u001b[43m(\u001b[49m\n\u001b[1;32m    180\u001b[0m \u001b[43m    \u001b[49m\u001b[43mregistry\u001b[49m\u001b[38;5;241;43m=\u001b[39;49m\u001b[43mregistry\u001b[49m\u001b[43m,\u001b[49m\n\u001b[1;32m    181\u001b[0m \u001b[43m    \u001b[49m\u001b[43mproject\u001b[49m\u001b[38;5;241;43m=\u001b[39;49m\u001b[43mproject\u001b[49m\u001b[43m,\u001b[49m\n\u001b[1;32m    182\u001b[0m \u001b[43m    \u001b[49m\u001b[43mfeatures\u001b[49m\u001b[38;5;241;43m=\u001b[39;49m\u001b[43mfeatures\u001b[49m\u001b[43m,\u001b[49m\n\u001b[1;32m    183\u001b[0m \u001b[43m    \u001b[49m\u001b[43mentity_values\u001b[49m\u001b[38;5;241;43m=\u001b[39;49m\u001b[43mentity_rows\u001b[49m\u001b[43m,\u001b[49m\n\u001b[1;32m    184\u001b[0m \u001b[43m    \u001b[49m\u001b[43mfull_feature_names\u001b[49m\u001b[38;5;241;43m=\u001b[39;49m\u001b[43mfull_feature_names\u001b[49m\u001b[43m,\u001b[49m\n\u001b[1;32m    185\u001b[0m \u001b[43m    \u001b[49m\u001b[43mnative_entity_values\u001b[49m\u001b[38;5;241;43m=\u001b[39;49m\u001b[38;5;28;43;01mTrue\u001b[39;49;00m\u001b[43m,\u001b[49m\n\u001b[1;32m    186\u001b[0m \u001b[43m\u001b[49m\u001b[43m)\u001b[49m\n\u001b[1;32m    188\u001b[0m \u001b[38;5;28;01mfor\u001b[39;00m table, requested_features \u001b[38;5;129;01min\u001b[39;00m grouped_refs:\n\u001b[1;32m    189\u001b[0m     \u001b[38;5;66;03m# Get the correct set of entity values with the correct join keys.\u001b[39;00m\n\u001b[1;32m    190\u001b[0m     table_entity_values, idxs \u001b[38;5;241m=\u001b[39m utils\u001b[38;5;241m.\u001b[39m_get_unique_entities(\n\u001b[1;32m    191\u001b[0m         table,\n\u001b[1;32m    192\u001b[0m         join_key_values,\n\u001b[1;32m    193\u001b[0m         entity_name_to_join_key_map,\n\u001b[1;32m    194\u001b[0m     )\n",
      "File \u001b[0;32m/usr/local/python/3.12.1/lib/python3.12/site-packages/feast/utils.py:1091\u001b[0m, in \u001b[0;36m_prepare_entities_to_read_from_online_store\u001b[0;34m(registry, project, features, entity_values, full_feature_names, native_entity_values)\u001b[0m\n\u001b[1;32m   1087\u001b[0m     \u001b[38;5;28;01melse\u001b[39;00m:\n\u001b[1;32m   1088\u001b[0m         \u001b[38;5;66;03m# Key is not recognized (likely a feature value), so we skip it.\u001b[39;00m\n\u001b[1;32m   1089\u001b[0m         \u001b[38;5;28;01mcontinue\u001b[39;00m  \u001b[38;5;66;03m# Or handle accordingly\u001b[39;00m\n\u001b[0;32m-> 1091\u001b[0m \u001b[43mensure_request_data_values_exist\u001b[49m\u001b[43m(\u001b[49m\u001b[43mneeded_request_data\u001b[49m\u001b[43m,\u001b[49m\u001b[43m \u001b[49m\u001b[43mrequest_data_features\u001b[49m\u001b[43m)\u001b[49m\n\u001b[1;32m   1093\u001b[0m \u001b[38;5;66;03m# Populate online features response proto with join keys and request data features\u001b[39;00m\n\u001b[1;32m   1094\u001b[0m online_features_response \u001b[38;5;241m=\u001b[39m GetOnlineFeaturesResponse(results\u001b[38;5;241m=\u001b[39m[])\n",
      "File \u001b[0;32m/usr/local/python/3.12.1/lib/python3.12/site-packages/feast/utils.py:772\u001b[0m, in \u001b[0;36mensure_request_data_values_exist\u001b[0;34m(needed_request_data, request_data_features)\u001b[0m\n\u001b[1;32m    768\u001b[0m \u001b[38;5;28;01mif\u001b[39;00m \u001b[38;5;28mlen\u001b[39m(needed_request_data) \u001b[38;5;241m!=\u001b[39m \u001b[38;5;28mlen\u001b[39m(request_data_features\u001b[38;5;241m.\u001b[39mkeys()):\n\u001b[1;32m    769\u001b[0m     missing_features \u001b[38;5;241m=\u001b[39m [\n\u001b[1;32m    770\u001b[0m         x \u001b[38;5;28;01mfor\u001b[39;00m x \u001b[38;5;129;01min\u001b[39;00m needed_request_data \u001b[38;5;28;01mif\u001b[39;00m x \u001b[38;5;129;01mnot\u001b[39;00m \u001b[38;5;129;01min\u001b[39;00m request_data_features\n\u001b[1;32m    771\u001b[0m     ]\n\u001b[0;32m--> 772\u001b[0m     \u001b[38;5;28;01mraise\u001b[39;00m RequestDataNotFoundInEntityRowsException(feature_names\u001b[38;5;241m=\u001b[39mmissing_features)\n",
      "\u001b[0;31mRequestDataNotFoundInEntityRowsException\u001b[0m: Required request data source features ['val_to_add_2', 'val_to_add'] not found in the entity rows, but required by feature views"
     ]
    }
   ],
   "source": [
    "from pprint import pprint\n",
    "from feast import FeatureStore\n",
    "feature_store = FeatureStore('./feature_repo')  # Initialize the feature store\n",
    "\n",
    "feature_service = feature_store.get_feature_service(\"driver_activity_v1\")\n",
    "feature_vector = feature_store.get_online_features(\n",
    "    features=feature_service,\n",
    "    entity_rows=[\n",
    "        # {join_key: entity_value}\n",
    "        {\"driver_id\": 1004},\n",
    "        {\"driver_id\": 1005},\n",
    "    ],\n",
    ").to_dict()\n",
    "pprint(feature_vector)"
   ]
  },
  {
   "cell_type": "code",
   "execution_count": null,
   "metadata": {},
   "outputs": [],
   "source": []
  }
 ],
 "metadata": {
  "kernelspec": {
   "display_name": "Python 3",
   "language": "python",
   "name": "python3"
  },
  "language_info": {
   "codemirror_mode": {
    "name": "ipython",
    "version": 3
   },
   "file_extension": ".py",
   "mimetype": "text/x-python",
   "name": "python",
   "nbconvert_exporter": "python",
   "pygments_lexer": "ipython3",
   "version": "3.12.1"
  }
 },
 "nbformat": 4,
 "nbformat_minor": 2
}
